{
 "cells": [
  {
   "cell_type": "code",
   "execution_count": 126,
   "id": "236c34db-12af-41c5-aa65-e8df69355236",
   "metadata": {},
   "outputs": [
    {
     "name": "stdout",
     "output_type": "stream",
     "text": [
      "The autoreload extension is already loaded. To reload it, use:\n",
      "  %reload_ext autoreload\n"
     ]
    }
   ],
   "source": [
    "from competitive_learning.model import Neuron, DataPoint, Dataset\n",
    "from competitive_learning.function import euclidean_distance\n",
    "%load_ext autoreload\n",
    "%autoreload 2"
   ]
  },
  {
   "cell_type": "code",
   "execution_count": 133,
   "id": "ae126de5-8301-4073-a72e-6752bf3d55cd",
   "metadata": {},
   "outputs": [
    {
     "data": {
      "text/plain": [
       "np.float64(5.830951894845301)"
      ]
     },
     "execution_count": 133,
     "metadata": {},
     "output_type": "execute_result"
    }
   ],
   "source": [
    "import numpy as np\n",
    "euclidean_distance(np.array([3,0]), np.array([0,5]))"
   ]
  },
  {
   "cell_type": "code",
   "execution_count": 112,
   "id": "37f30254-198c-470b-a23e-2de5229fa135",
   "metadata": {},
   "outputs": [
    {
     "data": {
      "text/plain": [
       "Neuron(id=UUID('20406829-da37-446a-abcd-f1e0d2526fdd'), coordinates=(1.0, 2.0), iterations=0)"
      ]
     },
     "execution_count": 112,
     "metadata": {},
     "output_type": "execute_result"
    }
   ],
   "source": [
    "n = Neuron(coordinates=(1,2))\n",
    "n"
   ]
  },
  {
   "cell_type": "code",
   "execution_count": 113,
   "id": "04820802-2342-4bd8-9907-66a99df490a5",
   "metadata": {},
   "outputs": [
    {
     "data": {
      "text/plain": [
       "1.0"
      ]
     },
     "execution_count": 113,
     "metadata": {},
     "output_type": "execute_result"
    }
   ],
   "source": [
    "point=DataPoint(coordinates=(0,1,2,3,4,5,6,7))\n",
    "point[1]"
   ]
  },
  {
   "cell_type": "code",
   "execution_count": 114,
   "id": "a1a153f8-15f3-46ac-9790-ec3d3f620795",
   "metadata": {},
   "outputs": [],
   "source": [
    "dp1 = DataPoint(coordinates=(1.0, 2.0, 3.0))\n",
    "dp2 = DataPoint(coordinates=(4.0, 5.0, 6.0))\n",
    "dp3 = DataPoint(coordinates=(7.0, 8.0, 1))"
   ]
  },
  {
   "cell_type": "code",
   "execution_count": 115,
   "id": "99be347f-4877-417e-b1b5-7ae2674551c6",
   "metadata": {},
   "outputs": [],
   "source": [
    "dataset = Dataset(data_points=(dp1, dp2, dp3))"
   ]
  },
  {
   "cell_type": "code",
   "execution_count": 116,
   "id": "b598f92f-eb18-46ff-bca8-e0ec9f19e869",
   "metadata": {},
   "outputs": [
    {
     "data": {
      "text/plain": [
       "3"
      ]
     },
     "execution_count": 116,
     "metadata": {},
     "output_type": "execute_result"
    }
   ],
   "source": [
    "dataset.dimension"
   ]
  },
  {
   "cell_type": "code",
   "execution_count": 117,
   "id": "ce34dfb2-e25d-4473-bf60-3d6b3586ce2c",
   "metadata": {},
   "outputs": [
    {
     "data": {
      "text/plain": [
       "{0, 1, 2}"
      ]
     },
     "execution_count": 117,
     "metadata": {},
     "output_type": "execute_result"
    }
   ],
   "source": [
    "dataset.available_points"
   ]
  },
  {
   "cell_type": "code",
   "execution_count": 118,
   "id": "df3bd881-450c-4e3c-9d5b-ccaf106769fe",
   "metadata": {},
   "outputs": [
    {
     "data": {
      "text/plain": [
       "{0, 1, 2}"
      ]
     },
     "execution_count": 118,
     "metadata": {},
     "output_type": "execute_result"
    }
   ],
   "source": [
    "set(range(dataset.len))"
   ]
  },
  {
   "cell_type": "code",
   "execution_count": 119,
   "id": "de5da1cc-4596-4804-8e85-c67fc2496dcb",
   "metadata": {},
   "outputs": [],
   "source": [
    "ds = Dataset.from_csv(\"data/dummy.csv\")"
   ]
  },
  {
   "cell_type": "code",
   "execution_count": 120,
   "id": "f6a9d832-cafa-460c-9bf0-db35e2332649",
   "metadata": {},
   "outputs": [],
   "source": [
    "ds.reset()"
   ]
  },
  {
   "cell_type": "code",
   "execution_count": 121,
   "id": "a5d5b32c-2aae-4f77-bb61-feb90cfc0c17",
   "metadata": {},
   "outputs": [
    {
     "data": {
      "text/plain": [
       "{0, 1, 2, 3, 4, 5, 6, 7, 8}"
      ]
     },
     "execution_count": 121,
     "metadata": {},
     "output_type": "execute_result"
    }
   ],
   "source": [
    "ds.available_points"
   ]
  },
  {
   "cell_type": "code",
   "execution_count": 122,
   "id": "4165ddd3-6291-4d97-bfbe-57cc5d7530d4",
   "metadata": {},
   "outputs": [
    {
     "data": {
      "text/plain": [
       "DataPoint(id=UUID('ebbc2509-9e50-4b63-ac9e-842f95eebffa'), coordinates=(2.0, 2.0, 2.0, 2.0, 2.0))"
      ]
     },
     "execution_count": 122,
     "metadata": {},
     "output_type": "execute_result"
    }
   ],
   "source": [
    "ds[1]"
   ]
  },
  {
   "cell_type": "code",
   "execution_count": 123,
   "id": "fe63c624-42a6-4511-9887-e909203b8121",
   "metadata": {},
   "outputs": [
    {
     "data": {
      "text/plain": [
       "{1}"
      ]
     },
     "execution_count": 123,
     "metadata": {},
     "output_type": "execute_result"
    }
   ],
   "source": [
    "ds.used_points"
   ]
  },
  {
   "cell_type": "code",
   "execution_count": 2,
   "id": "156fc8e5-8ab6-4e34-ae17-6517a91c87a6",
   "metadata": {},
   "outputs": [],
   "source": [
    "from competitive_learning.dummy_model import *"
   ]
  },
  {
   "cell_type": "code",
   "execution_count": 3,
   "id": "22ff7063-13fa-4356-9b53-4c4ae64f9736",
   "metadata": {},
   "outputs": [],
   "source": [
    "experiment = Experiment.dummy()"
   ]
  },
  {
   "cell_type": "code",
   "execution_count": 10,
   "id": "11e3ee72-3477-4cad-82f1-0f4abfc3f490",
   "metadata": {},
   "outputs": [],
   "source": [
    "experiment.neural_network.neurons[0].update_weights((1,2))"
   ]
  },
  {
   "cell_type": "code",
   "execution_count": 11,
   "id": "b8e3b53f-b09d-480f-a299-0138e4b64a1d",
   "metadata": {},
   "outputs": [
    {
     "data": {
      "text/plain": [
       "(Neuron(id=UUID('450da968-f696-412e-a5a1-1863a8e7b7ad'), coordinates=(1, 2), iterations=1),\n",
       " Neuron(id=UUID('6e39f047-5246-4956-940f-c4cb21c28287'), coordinates=(0.0, 0.0), iterations=0))"
      ]
     },
     "execution_count": 11,
     "metadata": {},
     "output_type": "execute_result"
    }
   ],
   "source": [
    "experiment.neural_network.neurons"
   ]
  }
 ],
 "metadata": {
  "kernelspec": {
   "display_name": "Python 3 (ipykernel)",
   "language": "python",
   "name": "python3"
  },
  "language_info": {
   "codemirror_mode": {
    "name": "ipython",
    "version": 3
   },
   "file_extension": ".py",
   "mimetype": "text/x-python",
   "name": "python",
   "nbconvert_exporter": "python",
   "pygments_lexer": "ipython3",
   "version": "3.11.10"
  }
 },
 "nbformat": 4,
 "nbformat_minor": 5
}
