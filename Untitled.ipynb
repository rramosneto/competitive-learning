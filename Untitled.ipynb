{
 "cells": [
  {
   "cell_type": "code",
   "execution_count": 10,
   "id": "06e511c3-7ea6-407a-8a50-4be10faecfa2",
   "metadata": {},
   "outputs": [
    {
     "name": "stdout",
     "output_type": "stream",
     "text": [
      "The autoreload extension is already loaded. To reload it, use:\n",
      "  %reload_ext autoreload\n"
     ]
    }
   ],
   "source": [
    "from competitive_learning.model import Neuron, DataPoint, Dataset, InitializerFactory, ExperimentFactory\n",
    "from competitive_learning.function import euclidean_distance\n",
    "import numpy as np\n",
    "%load_ext autoreload\n",
    "%autoreload 2"
   ]
  },
  {
   "cell_type": "code",
   "execution_count": 12,
   "id": "ade4ab75-9494-4a05-b913-c5c11fee05f0",
   "metadata": {},
   "outputs": [],
   "source": [
    "experiment = ExperimentFactory.create_random_experiment()"
   ]
  },
  {
   "cell_type": "code",
   "execution_count": 13,
   "id": "b9565297-ea79-47d9-9e47-55e8f6892e39",
   "metadata": {},
   "outputs": [],
   "source": [
    "experiment.run_experiment()"
   ]
  },
  {
   "cell_type": "code",
   "execution_count": 8,
   "id": "0a8e648a-e6f2-45a8-af8d-f88c3924ec21",
   "metadata": {},
   "outputs": [
    {
     "data": {
      "text/plain": [
       "(Neuron(id=UUID('6279345d-2b11-471b-bdd9-daf0a53cde33'), coordinates=array([0.62143014, 0.52321341]), iterations=104),\n",
       " Neuron(id=UUID('ce258629-3e3c-47fc-b139-7d5919e9df4a'), coordinates=array([0.56296279, 0.70159454]), iterations=97))"
      ]
     },
     "execution_count": 8,
     "metadata": {},
     "output_type": "execute_result"
    }
   ],
   "source": [
    "experiment.run_step()\n",
    "experiment.learning_strategy.neural_network.neurons"
   ]
  }
 ],
 "metadata": {
  "kernelspec": {
   "display_name": "Python 3 (ipykernel)",
   "language": "python",
   "name": "python3"
  },
  "language_info": {
   "codemirror_mode": {
    "name": "ipython",
    "version": 3
   },
   "file_extension": ".py",
   "mimetype": "text/x-python",
   "name": "python",
   "nbconvert_exporter": "python",
   "pygments_lexer": "ipython3",
   "version": "3.11.10"
  }
 },
 "nbformat": 4,
 "nbformat_minor": 5
}
