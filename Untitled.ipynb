{
 "cells": [
  {
   "cell_type": "code",
   "execution_count": 1,
   "id": "06e511c3-7ea6-407a-8a50-4be10faecfa2",
   "metadata": {},
   "outputs": [],
   "source": [
    "from competitive_learning.model import Neuron, DataPoint, Dataset, InitializerFactory, ExperimentFactory, NeuralNetwork\n",
    "from competitive_learning.function import euclidean_distance\n",
    "from competitive_learning_app import CompetitiveLearningApp\n",
    "import numpy as np\n",
    "import pandas as pd\n",
    "import json\n",
    "%load_ext autoreload\n",
    "%autoreload 2"
   ]
  },
  {
   "cell_type": "code",
   "execution_count": 2,
   "id": "79b8c936-b5cd-4abe-916c-cdd485199a34",
   "metadata": {},
   "outputs": [],
   "source": [
    "app = CompetitiveLearningApp()"
   ]
  },
  {
   "cell_type": "code",
   "execution_count": 3,
   "id": "1f6cb181-5a47-4838-ac21-d124c1e7f5a2",
   "metadata": {},
   "outputs": [],
   "source": [
    "df = pd.read_csv(\"data/iris/bezdekIris.csv\", header=None)\n",
    "df.columns = [\n",
    "    \"sepal_length\",\n",
    "    \"sepal_width\",\n",
    "    \"petal_length\",\n",
    "    \"petal_width\",\n",
    "    \"species\",\n",
    "]\n",
    "dataset = Dataset.from_pandas(df.drop(columns=[\"species\"]))\n"
   ]
  },
  {
   "cell_type": "code",
   "execution_count": 4,
   "id": "9adb5f7b-df91-43c6-ac1e-da089196752b",
   "metadata": {},
   "outputs": [],
   "source": [
    "app.dataframe=df\n",
    "app.dataset=dataset\n",
    "app.setup_experiment(\n",
    "    epochs=10,\n",
    "    start_learning_rate=0.5,\n",
    "    learning_rate_function='linear_decay',\n",
    "    epochs_for_learning_rate=5,\n",
    "    n_neurons=3,\n",
    "    neurons_initializer='mean_initializer',\n",
    "    strategy='wta',\n",
    "    proximity_function='euclidean_distance'\n",
    ")"
   ]
  },
  {
   "cell_type": "code",
   "execution_count": 5,
   "id": "973e681b-b37f-4812-bfb9-242ed9e89e1f",
   "metadata": {},
   "outputs": [],
   "source": [
    "app.create_experiment()"
   ]
  },
  {
   "cell_type": "code",
   "execution_count": 6,
   "id": "0dca6821-7c80-47f6-b780-82c4d3b6e6b2",
   "metadata": {},
   "outputs": [
    {
     "name": "stderr",
     "output_type": "stream",
     "text": [
      "/home/rramos/projects/competitive-learning/competitive_learning/model.py:349: FutureWarning: The behavior of DataFrame concatenation with empty or all-NA entries is deprecated. In a future version, this will no longer exclude empty or all-NA columns when determining the result dtypes. To retain the old behavior, exclude the relevant entries before the concat operation.\n",
      "  self.df = pd.concat([self.df, pd.DataFrame([new_row])], ignore_index=True)\n"
     ]
    }
   ],
   "source": [
    "app.experiment.run_experiment()"
   ]
  },
  {
   "cell_type": "code",
   "execution_count": null,
   "id": "6332027b-d23c-4715-8444-55a2efd2d020",
   "metadata": {},
   "outputs": [],
   "source": [
    "app.experiment"
   ]
  }
 ],
 "metadata": {
  "kernelspec": {
   "display_name": "Python 3 (ipykernel)",
   "language": "python",
   "name": "python3"
  },
  "language_info": {
   "codemirror_mode": {
    "name": "ipython",
    "version": 3
   },
   "file_extension": ".py",
   "mimetype": "text/x-python",
   "name": "python",
   "nbconvert_exporter": "python",
   "pygments_lexer": "ipython3",
   "version": "3.11.10"
  }
 },
 "nbformat": 4,
 "nbformat_minor": 5
}
